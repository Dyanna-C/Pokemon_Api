{
 "cells": [
  {
   "cell_type": "code",
   "execution_count": 14,
   "id": "99c4d810",
   "metadata": {
    "scrolled": true
   },
   "outputs": [
    {
     "name": "stdout",
     "output_type": "stream",
     "text": [
      "meet\n",
      "ditto\n",
      "<Response [200]>\n",
      "This is ditto's height: 3\n",
      "meet\n",
      "ditto\n",
      "<Response [200]>\n",
      "This is ditto's weight: 40\n",
      "meet\n",
      "charizard\n",
      "<Response [200]>\n",
      "This is charizard's height: 17\n",
      "meet\n",
      "charizard\n",
      "<Response [200]>\n",
      "This is charizard's weight: 905\n"
     ]
    }
   ],
   "source": [
    "import requests as r\n",
    "\n",
    "class Pokemon:\n",
    "    def __init__(self,pokemon):\n",
    "        self.pokemon = pokemon\n",
    "        \n",
    "    def _get(self, p_name):\n",
    "        #print(\"meet\")\n",
    "        #print(p_name)\n",
    "        self.res = r.get(f'https://pokeapi.co/api/v2/pokemon/{p_name}')\n",
    "        \n",
    "        #print(self.res)\n",
    "        \n",
    "        if self.res.status_code == 200:\n",
    "            self.res = self.res.json()\n",
    "            return self.res\n",
    "    \n",
    "    \n",
    "    def pokemon_height(self, p_name):\n",
    "        my_data = self._get(p_name)\n",
    "        name = my_data['height']\n",
    "        print(f\"This is {p_name}'s height: {name}\")\n",
    "        \n",
    "    def pokemon_weight(self, p_name):\n",
    "        my_data = self._get(p_name)\n",
    "        name = my_data['weight']\n",
    "        print(f\"This is {p_name}'s weight: {name}\")\n",
    "        \n",
    "        \n",
    "my_pokemon = Pokemon('ditto')\n",
    "my_pokemon.pokemon_height('ditto')\n",
    "my_pokemon.pokemon_weight('ditto')\n",
    "\n",
    "my_pokemon = Pokemon('charizard')\n",
    "my_pokemon.pokemon_height('charizard')\n",
    "my_pokemon.pokemon_weight('charizard')\n",
    "                         "
   ]
  }
 ],
 "metadata": {
  "kernelspec": {
   "display_name": "Python 3 (ipykernel)",
   "language": "python",
   "name": "python3"
  },
  "language_info": {
   "codemirror_mode": {
    "name": "ipython",
    "version": 3
   },
   "file_extension": ".py",
   "mimetype": "text/x-python",
   "name": "python",
   "nbconvert_exporter": "python",
   "pygments_lexer": "ipython3",
   "version": "3.9.12"
  }
 },
 "nbformat": 4,
 "nbformat_minor": 5
}
